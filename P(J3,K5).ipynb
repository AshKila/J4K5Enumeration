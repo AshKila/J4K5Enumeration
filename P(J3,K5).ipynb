{
  "cells": [
    {
      "cell_type": "code",
      "execution_count": 1,
      "metadata": {
        "colab": {
          "base_uri": "https://localhost:8080/"
        },
        "id": "XMeDLsdjVjUF",
        "outputId": "a875e8ed-2a54-4ee8-abf3-96404df7544b"
      },
      "outputs": [
        {
          "name": "stdout",
          "output_type": "stream",
          "text": [
            "True\n"
          ]
        }
      ],
      "source": [
        "import networkx as nx\n",
        "import matplotlib.pyplot as plt\n",
        "import numpy as np\n",
        "from itertools import permutations, combinations\n",
        "import pynauty as pn\n",
        "\n",
        "def powerset(iterable):\n",
        "    \"powerset([1,2,3]) --> () (1,) (2,) (3,) (1,2) (1,3) (2,3) (1,2,3)\"\n",
        "    s = list(iterable)\n",
        "    list1=[list(combinations(s, r)) for r in range(len(s)+1)]\n",
        "    list2=[]\n",
        "    for mini in list1:\n",
        "      list2=list2+mini\n",
        "    return list2\n",
        "\n",
        "def max_length(list1):\n",
        "  max1=0\n",
        "  for i in list1:\n",
        "    long=len(i)\n",
        "    if long>max1:\n",
        "      max1=long\n",
        "  return max1\n",
        "\n",
        "def ContainsJ5(graph):\n",
        "  #finds maximal cliques of the graph\n",
        "  all_cliques=list(nx.enumerate_all_cliques(graph))\n",
        "  max_length_cliques=max_length(all_cliques)\n",
        "  if max_length_cliques>4:\n",
        "    #means it contains a k5, so we done\n",
        "    return True\n",
        "  elif max_length_cliques<3:\n",
        "    #too small\n",
        "    return False\n",
        "  elif max_length_cliques==4:\n",
        "    max_cliques=[c for c in all_cliques if len(c)==4]\n",
        "    for cliqueA in max_cliques:\n",
        "      for cliqueB in max_cliques:\n",
        "        #checks if 2 4-cliques are only different by one vertex\n",
        "        union=set(cliqueA).union(set(cliqueB))\n",
        "        if len(union)==5:\n",
        "          return True\n",
        "    return False\n",
        "  else:\n",
        "    print(\"the fuck happened?\")\n",
        "\n",
        "def ContainsJ3(graph):\n",
        "  #finds maximal cliques of the graph\n",
        "  all_cliques=list(nx.enumerate_all_cliques(graph))\n",
        "  max_length_cliques=max_length(all_cliques)\n",
        "  if max_length_cliques>2:\n",
        "    #means it contains a k3, so we done\n",
        "    return True\n",
        "  elif max_length_cliques<2:\n",
        "    #too small\n",
        "    return False\n",
        "  elif max_length_cliques==2:\n",
        "    max_cliques=[c for c in all_cliques if len(c)==2]\n",
        "    for cliqueA in max_cliques:\n",
        "      for cliqueB in max_cliques:\n",
        "        #checks if 2 2-cliques are only different by one vertex\n",
        "        union=set(cliqueA).union(set(cliqueB))\n",
        "        if len(union)==3:\n",
        "          return True\n",
        "    return False\n",
        "  else:\n",
        "    print(\"the fuck happened?\")\n",
        "\n",
        "def convertNetworkXGraph(nx_graph):\n",
        "    pn_graph = pn.Graph(len(nx_graph))\n",
        "    for n in nx_graph:\n",
        "        list_neighbors = []\n",
        "        for nbs in nx_graph[n]:\n",
        "            list_neighbors.append(nbs)\n",
        "        pn_graph.connect_vertex(n, list_neighbors)\n",
        "    return pn_graph\n",
        "\n",
        "def Up_to_automorphism(list_of_nx_graphs):\n",
        "  final_list=[]\n",
        "  count=133632\n",
        "  for graph1 in list_of_nx_graphs:\n",
        "    add_me=True\n",
        "    count-=1\n",
        "    for graph2 in final_list:\n",
        "      if nx.faster_could_be_isomorphic(graph1,graph2) and nx.fast_could_be_isomorphic(graph1, graph2) and nx.is_isomorphic(graph1, graph2) :\n",
        "        add_me=False\n",
        "        break\n",
        "    if add_me:\n",
        "      final_list.append(graph1)\n",
        "      #purely to track progress of the counting\n",
        "    if len(final_list)%1000==0:\n",
        "      print(len(final_list),count)\n",
        "  return final_list\n",
        "\n",
        "def ContainsAntiK5(graph):\n",
        "  max_IS=max_length(list(nx.find_cliques(nx.complement(graph))))\n",
        "  return max_IS>=5\n",
        "\n",
        "test_graph=nx.complete_graph(5)\n",
        "test_graph.remove_edge(1,2)\n",
        "print(ContainsJ5(test_graph))"
      ]
    },
    {
      "cell_type": "markdown",
      "metadata": {
        "id": "pmQI6_mr8g_8"
      },
      "source": [
        "**Census of $P(J_3,K_5, m)$** for $1\\leq m\\leq 8$"
      ]
    },
    {
      "cell_type": "code",
      "execution_count": 2,
      "metadata": {
        "colab": {
          "base_uri": "https://localhost:8080/"
        },
        "id": "K4FugIg8Y5M4",
        "outputId": "5f1071d8-8508-4d06-ca4a-a0bef8f07a98"
      },
      "outputs": [
        {
          "name": "stdout",
          "output_type": "stream",
          "text": [
            "[<networkx.classes.graph.Graph object at 0x10dbf24d0>, <networkx.classes.graph.Graph object at 0x10dbf2c90>, <networkx.classes.graph.Graph object at 0x10dbf5890>, <networkx.classes.graph.Graph object at 0x10dbf7ad0>, <networkx.classes.graph.Graph object at 0x10dbd61d0>, <networkx.classes.graph.Graph object at 0x10dbf7590>, <networkx.classes.graph.Graph object at 0x10dbd7610>, <networkx.classes.graph.Graph object at 0x10dbd5910>, <networkx.classes.graph.Graph object at 0x10dbf79d0>, <networkx.classes.graph.Graph object at 0x10dc07a90>, <networkx.classes.graph.Graph object at 0x115fb7e90>, <networkx.classes.graph.Graph object at 0x11abb3a90>, <networkx.classes.graph.Graph object at 0x11669a0d0>, <networkx.classes.graph.Graph object at 0x115fcfa10>]\n",
            "14\n"
          ]
        }
      ],
      "source": [
        "#Now to find all of R(J3,K5)\n",
        "#Only have to check for n<9\n",
        "\n",
        "#The graph atlas gives us all cases up to 7.\n",
        "Pj3k5=[]\n",
        "for n in range(0,1253):\n",
        "  graph=nx.graph_atlas(n)\n",
        "  if not ContainsAntiK5(graph) and not ContainsJ3(graph):\n",
        "    Pj3k5+=[graph.copy()]\n",
        "print(Pj3k5)\n",
        "print(len(Pj3k5))\n",
        "#This gives us the first few cases"
      ]
    },
    {
      "cell_type": "code",
      "execution_count": 3,
      "metadata": {
        "colab": {
          "base_uri": "https://localhost:8080/",
          "height": 483
        },
        "id": "fK5HSCzd2O51",
        "outputId": "92be3328-523b-4979-fc03-bf2431e3a2ad"
      },
      "outputs": [
        {
          "name": "stdout",
          "output_type": "stream",
          "text": [
            "128\n",
            "1044\n",
            "133632\n"
          ]
        }
      ],
      "source": [
        "#n=8 case\n",
        "#Gonna take all the graphs with 7 vertices, add another vertex in 2^7 ways, then reduce up to isomorphism\n",
        "list_8v_part_labeled=[]\n",
        "Possible_edges=[(7,0),(7,1),(7,2),(7,3),(7,4),(7,5),(7,6)]\n",
        "#all the ways to add edges\n",
        "combos_to_check=powerset(Possible_edges)\n",
        "#all graphs with 7 vertices\n",
        "G7s_to_check=[nx.graph_atlas(i) for i in range(209,1253)]\n",
        "print(len(combos_to_check))\n",
        "print(len(G7s_to_check))\n",
        "#take all the ways to do each of these\n",
        "for combo in combos_to_check:\n",
        "    for G7 in G7s_to_check:\n",
        "        G8=G7.copy()\n",
        "        G8.add_node(7)\n",
        "        G8.add_edges_from(combo)\n",
        "        list_8v_part_labeled.append(G8.copy())\n",
        "print(len(list_8v_part_labeled))"
      ]
    },
    {
      "cell_type": "code",
      "execution_count": 4,
      "metadata": {},
      "outputs": [
        {
          "name": "stdout",
          "output_type": "stream",
          "text": [
            "12346\n"
          ]
        }
      ],
      "source": [
        "#reduce up to isomorphism\n",
        "Graphs_w_8v=[]\n",
        "hash_set=set()\n",
        "for nx_graph in list_8v_part_labeled:\n",
        "    pn_graph = convertNetworkXGraph(nx_graph)\n",
        "    cert = pn.certificate(pn_graph)\n",
        "    if cert not in hash_set:\n",
        "        hash_set.add(cert)\n",
        "        Graphs_w_8v.append(nx_graph)\n",
        "print(len(Graphs_w_8v))"
      ]
    },
    {
      "cell_type": "code",
      "execution_count": 5,
      "metadata": {
        "colab": {
          "base_uri": "https://localhost:8080/",
          "height": 184
        },
        "id": "4HynBLEuPWa9",
        "outputId": "adfb9296-6fd3-425d-b951-c15805a04efa"
      },
      "outputs": [],
      "source": [
        "#store all the Graphs with 8 vertices just in case\n",
        "#with open(\"Graphs_w_8v_nx_save.txt\",\"wb\") as f:\n",
        "  #for graph in Graphs_w_8v:\n",
        "    #nx.write_graph6(graph,f,header=True)"
      ]
    },
    {
      "cell_type": "code",
      "execution_count": 6,
      "metadata": {
        "id": "ymDtp8VKMLS-"
      },
      "outputs": [
        {
          "name": "stdout",
          "output_type": "stream",
          "text": [
            "15\n"
          ]
        }
      ],
      "source": [
        "#check all of the graphs with 8 vertices and see if they contain a J3 or Independent set of size 5.\n",
        "for current_graph in Graphs_w_8v:\n",
        "  if not ContainsJ3(current_graph) and not ContainsAntiK5(current_graph):\n",
        "    Pj3k5+=[current_graph.copy()]\n",
        "print(len(Pj3k5))"
      ]
    },
    {
      "cell_type": "code",
      "execution_count": 7,
      "metadata": {},
      "outputs": [],
      "source": [
        "#Saving as a txt file\n",
        "with open(\"Pj3k5.txt\",\"wb\") as f:\n",
        "  for graph in Pj3k5:\n",
        "    nx.write_graph6(graph,f,header=False) "
      ]
    },
    {
      "cell_type": "code",
      "execution_count": 8,
      "metadata": {
        "colab": {
          "base_uri": "https://localhost:8080/",
          "height": 406
        },
        "id": "e0v7Qr-FBFdn",
        "outputId": "eb291c1b-0e1a-4217-eec6-64d551381434"
      },
      "outputs": [
        {
          "data": {
            "image/png": "[encoded data removed]",
            "text/plain": [
              "<Figure size 640x480 with 1 Axes>"
            ]
          },
          "metadata": {},
          "output_type": "display_data"
        }
      ],
      "source": [
        "#graph atlas checking\n",
        "nx.draw_networkx(Pj3k5[8])"
      ]
    }
  ],
  "metadata": {
    "colab": {
      "provenance": []
    },
    "kernelspec": {
      "display_name": "Python 3",
      "name": "python3"
    },
    "language_info": {
      "codemirror_mode": {
        "name": "ipython",
        "version": 3
      },
      "file_extension": ".py",
      "mimetype": "text/x-python",
      "name": "python",
      "nbconvert_exporter": "python",
      "pygments_lexer": "ipython3",
      "version": "3.11.1"
    }
  },
  "nbformat": 4,
  "nbformat_minor": 0
}
