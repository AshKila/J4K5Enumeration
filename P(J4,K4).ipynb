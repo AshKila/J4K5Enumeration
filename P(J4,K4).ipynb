{
 "cells": [
  {
   "cell_type": "markdown",
   "id": "ea27fc79",
   "metadata": {},
   "source": [
    "# Finding all of P(J4,K4)"
   ]
  },
  {
   "cell_type": "markdown",
   "id": "cca03b96",
   "metadata": {},
   "source": [
    "Finding this whole set"
   ]
  },
  {
   "cell_type": "markdown",
   "id": "81d056c8",
   "metadata": {},
   "source": [
    "## Useful functions and imports"
   ]
  },
  {
   "cell_type": "code",
   "execution_count": 1,
   "id": "f8e868af",
   "metadata": {},
   "outputs": [
    {
     "name": "stdout",
     "output_type": "stream",
     "text": [
      "True\n"
     ]
    }
   ],
   "source": [
    "import networkx as nx\n",
    "import matplotlib.pyplot as plt\n",
    "import numpy as np\n",
    "from itertools import permutations, combinations\n",
    "import pynauty as pn\n",
    "import time\n",
    "\n",
    "def powerset(iterable,upper_bound=None, lower_bound=0):\n",
    "    \"powerset([1,2,3]) --> () (1,) (2,) (3,) (1,2) (1,3) (2,3) (1,2,3)\"\n",
    "    \"upper bound is the largest cardinality you want your sets to be\"\n",
    "    s = list(iterable)\n",
    "    if upper_bound is not None:\n",
    "      up=upper_bound\n",
    "    else:\n",
    "      up=len(s)\n",
    "    list1=[list(combinations(s, r)) for r in range(lower_bound,up+1)]\n",
    "    list2=[]\n",
    "    for mini in list1:\n",
    "      list2=list2+mini\n",
    "    return list2\n",
    "\n",
    "def max_length(list1):\n",
    "  max1=0\n",
    "  for i in list1:\n",
    "    long=len(i)\n",
    "    if long>max1:\n",
    "      max1=long\n",
    "  return max1\n",
    "\n",
    "def ContainsJ5(graph):\n",
    "  #finds maximal cliques of the graph\n",
    "  all_cliques=list(nx.enumerate_all_cliques(graph))\n",
    "  max_length_cliques=max_length(all_cliques)\n",
    "  if max_length_cliques>4:\n",
    "    #means it contains a k5, so we done\n",
    "    return True\n",
    "  elif max_length_cliques<4:\n",
    "    #too small\n",
    "    return False\n",
    "  elif max_length_cliques==4:\n",
    "    max_cliques=[c for c in all_cliques if len(c)==4]\n",
    "    for cliqueA in max_cliques:\n",
    "      for cliqueB in max_cliques:\n",
    "        #checks if 2 4-cliques are only different by one vertex\n",
    "        union=set(cliqueA).union(set(cliqueB))\n",
    "        if len(union)==5:\n",
    "          return True\n",
    "    return False\n",
    "  else:\n",
    "    print(\"the fuck happened?\")\n",
    "\n",
    "def ContainsJ4(graph):\n",
    "  #finds maximal cliques of the graph\n",
    "  all_cliques=list(nx.enumerate_all_cliques(graph))\n",
    "  max_length_cliques=max_length(all_cliques)\n",
    "  if max_length_cliques>3:\n",
    "    #means it contains a k4, so we done\n",
    "    return True\n",
    "  elif max_length_cliques<3:\n",
    "    #too small, j4 has triangles\n",
    "    return False\n",
    "  elif max_length_cliques==3:\n",
    "    max_cliques=[c for c in all_cliques if len(c)==3]\n",
    "    for cliqueA in max_cliques:\n",
    "      for cliqueB in max_cliques:\n",
    "        #checks if 2 3-cliques are only different by one vertex\n",
    "        union=set(cliqueA).union(set(cliqueB))\n",
    "        if len(union)==4:\n",
    "          return True\n",
    "    return False\n",
    "  else:\n",
    "    print(\"the fuck happened?\")\n",
    "\n",
    "def ContainsJ3(graph):\n",
    "  #finds maximal cliques of the graph\n",
    "  all_cliques=list(nx.enumerate_all_cliques(graph))\n",
    "  max_length_cliques=max_length(all_cliques)\n",
    "  if max_length_cliques>2:\n",
    "    #means it contains a k3, so we done\n",
    "    return True\n",
    "  elif max_length_cliques<2:\n",
    "    #too small\n",
    "    return False\n",
    "  elif max_length_cliques==2:\n",
    "    max_cliques=[c for c in all_cliques if len(c)==2]\n",
    "    for cliqueA in max_cliques:\n",
    "      for cliqueB in max_cliques:\n",
    "        #checks if 2 2-cliques are only different by one vertex\n",
    "        union=set(cliqueA).union(set(cliqueB))\n",
    "        if len(union)==3:\n",
    "          return True\n",
    "    return False\n",
    "  else:\n",
    "    print(\"the fuck happened?\")\n",
    "\n",
    "def convertNetworkXGraph(nx_graph):\n",
    "    pn_graph = pn.Graph(len(nx_graph))\n",
    "    for n in nx_graph:\n",
    "        list_neighbors = []\n",
    "        for nbs in nx_graph[n]:\n",
    "            list_neighbors.append(nbs)\n",
    "        pn_graph.connect_vertex(n, list_neighbors)\n",
    "    return pn_graph\n",
    "\n",
    "def ContainsAntiK5(graph):\n",
    "  max_IS=max_length(list(nx.find_cliques(nx.complement(graph))))\n",
    "  return max_IS>=5\n",
    "\n",
    "def ContainsAntiK4(graph):\n",
    "  max_IS=max_length(list(nx.find_cliques(nx.complement(graph))))\n",
    "  return max_IS>=4\n",
    "\n",
    "def Up_to_isomorphism(list_of_nx_graphs):\n",
    "    #takes a list of nx graphs and removes non-isomorphic copies\n",
    "    Output=[]\n",
    "    hash_set=set()\n",
    "    for nx_graph in list_of_nx_graphs:\n",
    "        pn_graph = convertNetworkXGraph(nx_graph)\n",
    "        cert = pn.certificate(pn_graph)\n",
    "        if cert not in hash_set:\n",
    "            hash_set.add(cert)\n",
    "            Output.append(nx_graph)\n",
    "    return Output\n",
    "\n",
    "def JustPj4k4(list_of_graphs):\n",
    "  #takes in a list of graphs, outputs the ones in Pj4k5\n",
    "  output=[]\n",
    "  for current_graph in list_of_graphs:\n",
    "    if not ContainsJ4(current_graph) and not ContainsAntiK4(current_graph):\n",
    "      output+=[current_graph.copy()]\n",
    "  return output\n",
    "\n",
    "\n",
    "\n",
    "def Write_it_up(n, list1):\n",
    "  #Writes up the things we just found\n",
    "  with open(\"Pj4k5n\"+str(n)+\".txt\",\"wb\") as f:\n",
    "    for graph in list1:\n",
    "      nx.write_graph6(graph,f,header=False) \n",
    "  \n",
    "\n",
    "test_graph=nx.complete_graph(4)\n",
    "test_graph.remove_edge(1,2)\n",
    "print(ContainsJ4(test_graph))"
   ]
  },
  {
   "cell_type": "markdown",
   "id": "fe4a1a86",
   "metadata": {},
   "source": [
    "# n=1-7 case"
   ]
  },
  {
   "cell_type": "code",
   "execution_count": 2,
   "id": "ce9e097e",
   "metadata": {},
   "outputs": [
    {
     "name": "stdout",
     "output_type": "stream",
     "text": [
      "[<networkx.classes.graph.Graph object at 0x10c37c090>, <networkx.classes.graph.Graph object at 0x114ad1d50>, <networkx.classes.graph.Graph object at 0x10c38b850>, <networkx.classes.graph.Graph object at 0x10c302450>, <networkx.classes.graph.Graph object at 0x10c38b8d0>, <networkx.classes.graph.Graph object at 0x10c3018d0>, <networkx.classes.graph.Graph object at 0x10c389290>, <networkx.classes.graph.Graph object at 0x10c34fdd0>, <networkx.classes.graph.Graph object at 0x1090b19d0>, <networkx.classes.graph.Graph object at 0x10c30fa50>, <networkx.classes.graph.Graph object at 0x10c314390>, <networkx.classes.graph.Graph object at 0x10c3b2fd0>, <networkx.classes.graph.Graph object at 0x10c3b0150>, <networkx.classes.graph.Graph object at 0x10c314790>, <networkx.classes.graph.Graph object at 0x10c315490>, <networkx.classes.graph.Graph object at 0x10c3bbc50>, <networkx.classes.graph.Graph object at 0x10c3c6f50>, <networkx.classes.graph.Graph object at 0x115028c90>, <networkx.classes.graph.Graph object at 0x10c3c8090>, <networkx.classes.graph.Graph object at 0x10c38ec10>, <networkx.classes.graph.Graph object at 0x1150dc890>, <networkx.classes.graph.Graph object at 0x10c302090>, <networkx.classes.graph.Graph object at 0x1150a3610>, <networkx.classes.graph.Graph object at 0x10c3b76d0>, <networkx.classes.graph.Graph object at 0x1150ff810>, <networkx.classes.graph.Graph object at 0x1150ff410>, <networkx.classes.graph.Graph object at 0x115129c10>, <networkx.classes.graph.Graph object at 0x10c38ac10>, <networkx.classes.graph.Graph object at 0x11512d050>, <networkx.classes.graph.Graph object at 0x11512ff90>, <networkx.classes.graph.Graph object at 0x1150ab550>, <networkx.classes.graph.Graph object at 0x11513bcd0>, <networkx.classes.graph.Graph object at 0x115135350>, <networkx.classes.graph.Graph object at 0x10c389f50>, <networkx.classes.graph.Graph object at 0x11513f410>, <networkx.classes.graph.Graph object at 0x115133890>, <networkx.classes.graph.Graph object at 0x114fa4850>, <networkx.classes.graph.Graph object at 0x114fb00d0>, <networkx.classes.graph.Graph object at 0x11513ffd0>, <networkx.classes.graph.Graph object at 0x11513f210>, <networkx.classes.graph.Graph object at 0x11513f150>, <networkx.classes.graph.Graph object at 0x11513ea10>, <networkx.classes.graph.Graph object at 0x115142290>, <networkx.classes.graph.Graph object at 0x115139290>, <networkx.classes.graph.Graph object at 0x11513fb90>, <networkx.classes.graph.Graph object at 0x115142f10>, <networkx.classes.graph.Graph object at 0x115141fd0>, <networkx.classes.graph.Graph object at 0x115143fd0>, <networkx.classes.graph.Graph object at 0x115142490>, <networkx.classes.graph.Graph object at 0x115141f10>, <networkx.classes.graph.Graph object at 0x1151439d0>, <networkx.classes.graph.Graph object at 0x115145c90>, <networkx.classes.graph.Graph object at 0x115144f50>, <networkx.classes.graph.Graph object at 0x115145310>, <networkx.classes.graph.Graph object at 0x1151473d0>, <networkx.classes.graph.Graph object at 0x10c30fdd0>, <networkx.classes.graph.Graph object at 0x115147450>, <networkx.classes.graph.Graph object at 0x115146e10>, <networkx.classes.graph.Graph object at 0x115141f90>, <networkx.classes.graph.Graph object at 0x115147890>, <networkx.classes.graph.Graph object at 0x115147750>, <networkx.classes.graph.Graph object at 0x115147490>, <networkx.classes.graph.Graph object at 0x1151442d0>, <networkx.classes.graph.Graph object at 0x1151538d0>, <networkx.classes.graph.Graph object at 0x1151505d0>, <networkx.classes.graph.Graph object at 0x115153350>, <networkx.classes.graph.Graph object at 0x115144290>, <networkx.classes.graph.Graph object at 0x114c59e90>, <networkx.classes.graph.Graph object at 0x115145010>, <networkx.classes.graph.Graph object at 0x11515a7d0>, <networkx.classes.graph.Graph object at 0x1151591d0>, <networkx.classes.graph.Graph object at 0x11515b210>, <networkx.classes.graph.Graph object at 0x115159c10>, <networkx.classes.graph.Graph object at 0x10c388d90>, <networkx.classes.graph.Graph object at 0x115159f10>, <networkx.classes.graph.Graph object at 0x10c30ee50>, <networkx.classes.graph.Graph object at 0x11515a690>, <networkx.classes.graph.Graph object at 0x11515b450>, <networkx.classes.graph.Graph object at 0x11515bf90>, <networkx.classes.graph.Graph object at 0x11515aad0>, <networkx.classes.graph.Graph object at 0x115163d90>, <networkx.classes.graph.Graph object at 0x115162450>, <networkx.classes.graph.Graph object at 0x115163210>, <networkx.classes.graph.Graph object at 0x115161fd0>, <networkx.classes.graph.Graph object at 0x115161410>, <networkx.classes.graph.Graph object at 0x115162910>, <networkx.classes.graph.Graph object at 0x115162f50>, <networkx.classes.graph.Graph object at 0x115164490>, <networkx.classes.graph.Graph object at 0x115166090>, <networkx.classes.graph.Graph object at 0x115162810>, <networkx.classes.graph.Graph object at 0x115163810>, <networkx.classes.graph.Graph object at 0x115164f10>, <networkx.classes.graph.Graph object at 0x115166290>, <networkx.classes.graph.Graph object at 0x11515b490>, <networkx.classes.graph.Graph object at 0x115164a90>, <networkx.classes.graph.Graph object at 0x115167690>, <networkx.classes.graph.Graph object at 0x115173090>, <networkx.classes.graph.Graph object at 0x115164bd0>, <networkx.classes.graph.Graph object at 0x115172b10>, <networkx.classes.graph.Graph object at 0x115173590>, <networkx.classes.graph.Graph object at 0x115172890>, <networkx.classes.graph.Graph object at 0x115173d50>, <networkx.classes.graph.Graph object at 0x115167750>, <networkx.classes.graph.Graph object at 0x115172650>, <networkx.classes.graph.Graph object at 0x115173cd0>, <networkx.classes.graph.Graph object at 0x11517a490>, <networkx.classes.graph.Graph object at 0x115171090>, <networkx.classes.graph.Graph object at 0x1151716d0>, <networkx.classes.graph.Graph object at 0x11517afd0>, <networkx.classes.graph.Graph object at 0x1151675d0>, <networkx.classes.graph.Graph object at 0x115171150>, <networkx.classes.graph.Graph object at 0x11517bd90>, <networkx.classes.graph.Graph object at 0x115180fd0>, <networkx.classes.graph.Graph object at 0x115181e50>, <networkx.classes.graph.Graph object at 0x115183750>, <networkx.classes.graph.Graph object at 0x115167790>, <networkx.classes.graph.Graph object at 0x1151824d0>, <networkx.classes.graph.Graph object at 0x115183550>, <networkx.classes.graph.Graph object at 0x115182f10>, <networkx.classes.graph.Graph object at 0x115180090>, <networkx.classes.graph.Graph object at 0x115183090>, <networkx.classes.graph.Graph object at 0x115180610>, <networkx.classes.graph.Graph object at 0x11518b710>, <networkx.classes.graph.Graph object at 0x115183b90>, <networkx.classes.graph.Graph object at 0x11518b5d0>, <networkx.classes.graph.Graph object at 0x115188050>, <networkx.classes.graph.Graph object at 0x115189e90>, <networkx.classes.graph.Graph object at 0x115189e50>, <networkx.classes.graph.Graph object at 0x11518bed0>, <networkx.classes.graph.Graph object at 0x11518b3d0>, <networkx.classes.graph.Graph object at 0x1151924d0>, <networkx.classes.graph.Graph object at 0x115193d90>, <networkx.classes.graph.Graph object at 0x115191e90>, <networkx.classes.graph.Graph object at 0x115193350>, <networkx.classes.graph.Graph object at 0x115193e90>, <networkx.classes.graph.Graph object at 0x115188f90>, <networkx.classes.graph.Graph object at 0x1151812d0>, <networkx.classes.graph.Graph object at 0x1151598d0>, <networkx.classes.graph.Graph object at 0x11519b950>, <networkx.classes.graph.Graph object at 0x11519bb50>, <networkx.classes.graph.Graph object at 0x1151990d0>, <networkx.classes.graph.Graph object at 0x11519b850>, <networkx.classes.graph.Graph object at 0x11519a0d0>, <networkx.classes.graph.Graph object at 0x11519b5d0>, <networkx.classes.graph.Graph object at 0x11519bd50>, <networkx.classes.graph.Graph object at 0x11519a9d0>, <networkx.classes.graph.Graph object at 0x11519df90>, <networkx.classes.graph.Graph object at 0x11519b990>, <networkx.classes.graph.Graph object at 0x11519e810>, <networkx.classes.graph.Graph object at 0x11519d710>, <networkx.classes.graph.Graph object at 0x11519a7d0>, <networkx.classes.graph.Graph object at 0x11519f9d0>, <networkx.classes.graph.Graph object at 0x11515ae10>, <networkx.classes.graph.Graph object at 0x1151aa710>, <networkx.classes.graph.Graph object at 0x1151ab3d0>]\n",
      "155\n"
     ]
    }
   ],
   "source": [
    "#Now to find all of R(J4,K4)\n",
    "#Only have to check for n<11\n",
    "\n",
    "#The graph atlas gives us all cases up to 7.\n",
    "Pj4k4=[]\n",
    "for n in range(0,1253):\n",
    "  #using the graph atlas for 1-7\n",
    "  graph=nx.graph_atlas(n)\n",
    "  if not ContainsAntiK4(graph) and not ContainsJ4(graph):\n",
    "    Pj4k4+=[graph.copy()]\n",
    "print(Pj4k4)\n",
    "print(len(Pj4k4))\n",
    "#This gives us the first few cases\n"
   ]
  },
  {
   "cell_type": "markdown",
   "id": "d7dc7ec6",
   "metadata": {},
   "source": [
    "# n=8 case"
   ]
  },
  {
   "cell_type": "code",
   "execution_count": 3,
   "id": "e56e104e",
   "metadata": {},
   "outputs": [
    {
     "name": "stdout",
     "output_type": "stream",
     "text": [
      "12346\n",
      "128\n"
     ]
    }
   ],
   "source": [
    "# import the list of graphs with 8 vertices from txt file\n",
    "Graphs_w_8v=[]\n",
    "Graphs_w_8v=nx.read_graph6(\"Graphs_w_8v_saved.txt\")\n",
    "print(len(Graphs_w_8v))\n",
    "#get all the things in J4 K4\n",
    "Pj4k4_n8=JustPj4k4(Graphs_w_8v)\n",
    "print(len(Pj4k4_n8))\n",
    "Pj4k4+=Pj4k4_n8"
   ]
  },
  {
   "cell_type": "markdown",
   "id": "49261a03",
   "metadata": {},
   "source": [
    "# n=9 case\n",
    "\n",
    "verbatium code from the first few P(j4,K5) lines"
   ]
  },
  {
   "cell_type": "code",
   "execution_count": 4,
   "id": "b4bd985d",
   "metadata": {},
   "outputs": [
    {
     "name": "stdout",
     "output_type": "stream",
     "text": [
      "[(8, 0), (8, 1), (8, 2), (8, 3), (8, 4), (8, 5), (8, 6), (8, 7)]\n",
      "32768\n",
      "14846\n",
      "98\n"
     ]
    }
   ],
   "source": [
    "#ways to connect the G8 and the new guy\n",
    "n=9\n",
    "Possible_Edges=[(n-1,k) for k in range(n-1)]\n",
    "print(Possible_Edges)\n",
    "G8s_to_check=Pj4k4_n8.copy()\n",
    "combos_to_check=powerset(Possible_Edges)\n",
    "possible_guys=[]\n",
    "for combo in combos_to_check:\n",
    "    for G8 in G8s_to_check:\n",
    "        G9=G8.copy()\n",
    "        G9.add_node(8)\n",
    "        G9.add_edges_from(combo)\n",
    "        possible_guys.append(G9.copy())\n",
    "print(len(possible_guys))\n",
    "\n",
    "possible_unique_guys=Up_to_isomorphism(possible_guys)\n",
    "print(len(possible_unique_guys))\n",
    "\n",
    "Pj4k4_n9=JustPj4k4(possible_unique_guys)\n",
    "print(len(Pj4k4_n9))\n",
    "Pj4k4+=Pj4k4_n9\n"
   ]
  },
  {
   "cell_type": "markdown",
   "id": "5f9d5916",
   "metadata": {},
   "source": [
    "# n=10 case"
   ]
  },
  {
   "cell_type": "code",
   "execution_count": 5,
   "id": "aa7aeee6",
   "metadata": {},
   "outputs": [
    {
     "name": "stdout",
     "output_type": "stream",
     "text": [
      "[(9, 0), (9, 1), (9, 2), (9, 3), (9, 4), (9, 5), (9, 6), (9, 7), (9, 8)]\n",
      "50176\n",
      "22453\n",
      "103\n"
     ]
    }
   ],
   "source": [
    "#ways to connect the G9 and the new guy\n",
    "n=10\n",
    "Possible_Edges=[(n-1,k) for k in range(n-1)]\n",
    "print(Possible_Edges)\n",
    "G9s_to_check=Pj4k4_n9.copy()\n",
    "combos_to_check=powerset(Possible_Edges)\n",
    "possible_guys=[]\n",
    "for combo in combos_to_check:\n",
    "    for G9 in G9s_to_check:\n",
    "        G10=G9.copy()\n",
    "        G10.add_node(8)\n",
    "        G10.add_edges_from(combo)\n",
    "        possible_guys.append(G10.copy())\n",
    "print(len(possible_guys))\n",
    "\n",
    "possible_unique_guys=Up_to_isomorphism(possible_guys)\n",
    "print(len(possible_unique_guys))\n",
    "\n",
    "Pj4k4_n10=JustPj4k4(possible_unique_guys)\n",
    "print(len(Pj4k4_n10))\n",
    "Pj4k4+=Pj4k4_n10\n"
   ]
  },
  {
   "cell_type": "markdown",
   "id": "240729f4",
   "metadata": {},
   "source": [
    "# Store it"
   ]
  },
  {
   "cell_type": "code",
   "execution_count": 6,
   "id": "e82bda51",
   "metadata": {},
   "outputs": [
    {
     "name": "stdout",
     "output_type": "stream",
     "text": [
      "484\n"
     ]
    }
   ],
   "source": [
    "print(len(Pj4k4))\n",
    "with open(\"Pj4k4.txt\",\"wb\") as f:\n",
    "    for graph in Pj4k4:\n",
    "      nx.write_graph6(graph,f,header=False) "
   ]
  }
 ],
 "metadata": {
  "kernelspec": {
   "display_name": "Python 3",
   "language": "python",
   "name": "python3"
  },
  "language_info": {
   "codemirror_mode": {
    "name": "ipython",
    "version": 3
   },
   "file_extension": ".py",
   "mimetype": "text/x-python",
   "name": "python",
   "nbconvert_exporter": "python",
   "pygments_lexer": "ipython3",
   "version": "3.11.1"
  }
 },
 "nbformat": 4,
 "nbformat_minor": 5
}
